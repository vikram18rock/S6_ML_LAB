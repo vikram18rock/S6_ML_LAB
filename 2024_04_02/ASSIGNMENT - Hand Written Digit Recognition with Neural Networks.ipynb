{
 "cells": [
  {
   "cell_type": "markdown",
   "id": "bored-updating",
   "metadata": {},
   "source": [
    "#### Importing Libraries"
   ]
  },
  {
   "cell_type": "code",
   "execution_count": 23,
   "id": "prime-observer",
   "metadata": {},
   "outputs": [],
   "source": [
    "import numpy as np\n",
    "import matplotlib.pyplot as plt\n",
    "import random"
   ]
  },
  {
   "cell_type": "markdown",
   "id": "primary-craps",
   "metadata": {},
   "source": [
    "# Importing Datasets\n",
    "\n",
    "I have already imported the dataset. If you want to use a different dataset, then you can give its path down below.\n",
    "\n",
    "The shape of X should be (n, m),\n",
    "And that of Y should be (10, m)\n",
    "\n",
    "Here, \n",
    "- n = total number of features\n",
    "- m = total number of observations in our dataset\n",
    "- 10 = number of output classes"
   ]
  },
  {
   "cell_type": "code",
   "execution_count": 24,
   "id": "accredited-decimal",
   "metadata": {},
   "outputs": [],
   "source": [
    "X_train = np.loadtxt('train_X.csv', delimiter = ',')\n",
    "Y_train = np.loadtxt('train_label.csv', delimiter = ',')\n",
    "\n",
    "X_train = X_train.T\n",
    "Y_train = Y_train.T"
   ]
  },
  {
   "cell_type": "code",
   "execution_count": 25,
   "id": "mexican-penetration",
   "metadata": {},
   "outputs": [],
   "source": [
    "X_test = np.loadtxt('test_X.csv', delimiter = ',')\n",
    "Y_test = np.loadtxt('test_label.csv', delimiter = ',')\n",
    "\n",
    "X_test = X_test.T\n",
    "Y_test = Y_test.T"
   ]
  },
  {
   "cell_type": "code",
   "execution_count": 26,
   "id": "sticky-today",
   "metadata": {},
   "outputs": [
    {
     "name": "stdout",
     "output_type": "stream",
     "text": [
      "shape of X_train :  (784, 1000)\n",
      "shape of Y_train :  (10, 1000)\n",
      "shape of X_test :  (784, 350)\n",
      "shape of Y_test :  (10, 350)\n"
     ]
    }
   ],
   "source": [
    "print(\"shape of X_train : \", X_train.shape)\n",
    "print(\"shape of Y_train : \", Y_train.shape)\n",
    "\n",
    "print(\"shape of X_test : \", X_test.shape)\n",
    "print(\"shape of Y_test : \", Y_test.shape)"
   ]
  },
  {
   "cell_type": "markdown",
   "id": "attached-association",
   "metadata": {},
   "source": [
    "### Visualizing our Dataset\n",
    "\n",
    "Our dataset is in the form of numbers. So, to visualize it properly, we will display it in the form of image"
   ]
  },
  {
   "cell_type": "code",
   "execution_count": 27,
   "id": "excess-expression",
   "metadata": {},
   "outputs": [
    {
     "data": {
      "image/png": "[encoded data removed]",
      "text/plain": [
       "<Figure size 640x480 with 1 Axes>"
      ]
     },
     "metadata": {},
     "output_type": "display_data"
    }
   ],
   "source": [
    "index = int(random.randrange(0,X_train.shape[1]))\n",
    "plt.imshow(X_train[:, index].reshape((28,28)),cmap='gray')\n",
    "plt.show()"
   ]
  },
  {
   "cell_type": "markdown",
   "id": "conservative-graphic",
   "metadata": {},
   "source": [
    "# Model\n",
    "\n",
    "![nn](Images/nn.png)\n",
    "\n",
    "## Initialize parameters Randomly\n",
    "$ W_1 = np.random.randn(n_1, n_0) $\n",
    "\n",
    "$ b_1 = np.zeros((n_1, 1))$\n",
    "\n",
    "$ W_2 = np.random.randn(n_2, n_1) $\n",
    "\n",
    "$ b_2 = np.zeros((n_2, 1))$\n",
    "\n",
    "\n",
    "## Repeat Below Steps for many times :\n",
    "\n",
    "\n",
    "## Forward Propagation \n",
    "\n",
    "$ Z_1 = W_1 * X + B_1 $\n",
    "\n",
    "$ A_1 = f ( Z_1 ) $  \n",
    "\n",
    "$ Z_2 = W2 * A_1 + B_2 $\n",
    "\n",
    "$ A_2 = Softmax( Z_2 ) $\n",
    "\n",
    "## Softmax \n",
    "\n",
    "$ a_i = \\frac{e^{z_i}}{\\sum_{i=k}^ne^{z_k}}$\n",
    "\n",
    "\n",
    "## Cost Function \n",
    "\n",
    "$Loss = - \\sum_{i=k}^{n}[ y_k*log(a_k) ]$\n",
    "\n",
    "$Cost = - \\frac{1}{m}\\sum_{i=1}^{m}\\sum_{k=1}^{n}[ y_k*log(a_k) ]$\n",
    "\n",
    "\n",
    "\n",
    "## Backward Propagation\n",
    "$dZ_2 = ( A_2 - Y )$\n",
    "\n",
    "$ dW_2 = \\frac{1}{m}. dZ_2 . A_1^T$\n",
    "\n",
    "$ dB_2 = \\frac{1}{m}.sum(dZ_2, 1)$\n",
    "\n",
    "\n",
    "\n",
    "$dZ_1 = W_2^T . dZ_2 * f_1^|(Z_1) $\n",
    "\n",
    "$dW_1 = \\frac{1}{m}.dZ_1.X^T$\n",
    "\n",
    "$dB_1 = \\frac{1}{m}.sum(dZ_1, 1)$\n",
    "\n",
    "\n",
    "## Updating Parameters\n",
    "\n",
    "$ W_2 = W_2 -  \\alpha * \\frac{\\partial Cost }{\\partial W_2}$ \n",
    "\n",
    "$ B_2 = B_2 -  \\alpha * \\frac{\\partial Cost }{\\partial B_2}$ \n",
    "\n",
    "$ W_1 = W_1 -  \\alpha * \\frac{\\partial Cost }{\\partial W_1}$ \n",
    "\n",
    "$ B_1 = B_1 -  \\alpha * \\frac{\\partial Cost }{\\partial B_1}$ \n"
   ]
  },
  {
   "cell_type": "markdown",
   "id": "private-seven",
   "metadata": {},
   "source": [
    "# Activation Functions\n",
    "\n",
    "***Now, its your time to implement !***\n",
    "\n",
    "Complete the below functions for Activations."
   ]
  },
  {
   "cell_type": "code",
   "execution_count": 28,
   "id": "better-winning",
   "metadata": {},
   "outputs": [],
   "source": [
    "def tanh(x):\n",
    "    ## Your Code Here ##\n",
    "    return np.tanh(x)\n",
    "    ## Code Ends ##"
   ]
  },
  {
   "cell_type": "code",
   "execution_count": 29,
   "id": "immune-wright",
   "metadata": {},
   "outputs": [],
   "source": [
    "def relu(x):\n",
    "    ## Your Code Here ##\n",
    "    return np.maximum(x, 0)\n",
    "    ## Code Ends ##"
   ]
  },
  {
   "cell_type": "code",
   "execution_count": 30,
   "id": "several-roommate",
   "metadata": {},
   "outputs": [],
   "source": [
    "def softmax(z):\n",
    "    ## Your Code Here ## \n",
    "    sof_max = np.exp(z) / np.sum(np.exp(z), axis = 0)\n",
    "    return sof_max\n",
    "    ## Code Ends ##"
   ]
  },
  {
   "cell_type": "markdown",
   "id": "smart-gambling",
   "metadata": {},
   "source": [
    "The function *derivative_tanh* must return the derivative of tanh.\n",
    "The function *derivative_relu* must return the derivative of ReLU\n",
    "\n",
    "\n",
    "Also note, I made a small mistake in video. derivative of tanh is given by 1 - tanh^2(x).\n",
    "\n",
    "\n",
    "so, derivative_tanh(x):\n",
    "\n",
    "return 1 - np.power(np.tanh(x), 2)"
   ]
  },
  {
   "cell_type": "code",
   "execution_count": 31,
   "id": "german-stake",
   "metadata": {},
   "outputs": [],
   "source": [
    "def derivative_tanh(x):\n",
    "    ## Your Code Here ##\n",
    "    d_tanh = 1 - (tanh(x) ** 2)\n",
    "    return d_tanh\n",
    "    ## Code Ends ##\n",
    "\n",
    "def derivative_relu(x):\n",
    "    ## Your Code Here ##\n",
    "    return np.array(x > 0, dtype = np.float32)\n",
    "    ## Code Ends ##"
   ]
  },
  {
   "cell_type": "markdown",
   "id": "forward-heading",
   "metadata": {},
   "source": [
    "# Initialize Parameters\n",
    "\n",
    "We need to initialize the **W** parameters randomly, and **B** with zeros\n",
    "\n",
    "- np.random.randn(a, b) return a numpy array of shape(a, b) with small random values\n",
    "- For making the values small, we multiply 0.01\n",
    "- np.zeros((a, b) return a numpy array of shape(a, b) with zeros \n",
    "\n",
    "### Why need small weights W?\n",
    "If we initialize weights will large values, then Z = W * X + B, will be large. For functions like tanh and sigmoid, the slope becomes very less for large Z value, thus learning can be very slow.\n",
    "\n",
    "#### Remember, we had an increase in the cost function at the beginning while training the model with ReLU activation function?\n",
    "It is because our weights were still very large and it was creating problem for training our model.\n",
    "\n",
    "Multiply weights with 0.001 instead of 0.01, and you will see that the graph becomes normal, with a smooth decrease in cost value.\n",
    "\n",
    "There are many weight initialization techniques available as well, to solve other such problems. We will learn those in the upcoming videos.\n",
    "\n",
    "Now, We need to return a dictionary containing all the parameters.\n",
    "\n",
    "More about np.random.randn here : https://numpy.org/doc/stable/reference/random/generated/numpy.random.randn.html"
   ]
  },
  {
   "cell_type": "code",
   "execution_count": 32,
   "id": "several-textbook",
   "metadata": {},
   "outputs": [],
   "source": [
    "def initialize_parameters(n_x, n_h, n_y):\n",
    "    \n",
    "    ## Complete the code below ##\n",
    "    w1 = np.random.randn(n_h, n_x) * 0.01\n",
    "    b1 = np.zeros((n_h, 1))\n",
    "    w2 = np.random.randn(n_y, n_h) * 0.01\n",
    "    b2 = np.zeros((n_y, 1))\n",
    "    ## Your Code ends ##\n",
    "    \n",
    "    parameters = {\n",
    "        \"w1\" : w1, \n",
    "        \"b1\" : b1, \n",
    "        \"w2\" : w2,\n",
    "        \"b2\" : b2\n",
    "    }\n",
    "    \n",
    "    return parameters"
   ]
  },
  {
   "cell_type": "markdown",
   "id": "listed-sauce",
   "metadata": {},
   "source": [
    "# Forward Propagation\n",
    "\n",
    "We need to impletement the following equation for forward propagation :\n",
    "\n",
    "$ Z_1 = W_1 * X + B_1 $\n",
    "\n",
    "$ A_1 = f ( Z_1 ) $  \n",
    "\n",
    "$ Z_2 = W2 * A_1 + B_2 $\n",
    "\n",
    "$ A_2 = Softmax( Z_2 ) $\n",
    "\n",
    "For f(x), you can use either tanh or ReLU activation function. \n",
    "\n",
    "But also use the same for Backpropagation as well"
   ]
  },
  {
   "cell_type": "code",
   "execution_count": 33,
   "id": "described-excess",
   "metadata": {},
   "outputs": [],
   "source": [
    "def forward_prop(x, parameters):\n",
    "    \n",
    "    # To fetch the parameters\n",
    "    w1 = parameters['w1']\n",
    "    b1 = parameters['b1']\n",
    "    w2 = parameters['w2']\n",
    "    b2 = parameters['b2']\n",
    "    \n",
    "    ## Complete the Code below : ##\n",
    "    z1 = np.dot(w1, x) + b1\n",
    "    a1 = relu(z1)\n",
    "    z2 = np.dot(w2, a1) + b2\n",
    "    a2 = softmax(z2)\n",
    "    ## Your Code ends ##\n",
    "    \n",
    "    # To return our Zs and As\n",
    "    forward_cache = {\n",
    "        \"z1\" : z1,\n",
    "        \"a1\" : a1,\n",
    "        \"z2\" : z2,\n",
    "        \"a2\" : a2\n",
    "    }\n",
    "    \n",
    "    return forward_cache"
   ]
  },
  {
   "cell_type": "markdown",
   "id": "sharp-tourist",
   "metadata": {},
   "source": [
    "# Cost Function\n",
    "\n",
    "$Loss = - \\sum_{k=1}^{n}[ y_k*log(a_k) ]$ .. *for 1 observation*\n",
    "\n",
    "$Cost = - \\frac{1}{m}\\sum_{i=1}^{m}\\sum_{k=1}^{n}[ y_k*log(a_k) ]$  .. *for all m observations*\n",
    "\n",
    "You need to return the cost in the below function\n",
    "\n",
    "You can use np.sum()\n",
    "- np.sum(A, axis = 1, keepdims = True) return the column-wise sum for a matrix A\n",
    "- np.sum(A, axis = 0, keepdims = True) returns the row-wise sum for a matrix A\n",
    "- np.sum(A) returns the summation of all the elements of A\n",
    "\n",
    "*keepdims = True keeps the dimenstion in place. In certain cases, the returned sum can be of shape(m,) instead of shape(m, 1).\n",
    "So, keepdims = True forces it to return the sum in shape(m, 1) instead of shape(m,)*\n",
    "\n",
    "\n",
    "More about np.sum() here : https://numpy.org/doc/stable/reference/generated/numpy.sum.html"
   ]
  },
  {
   "cell_type": "code",
   "execution_count": 34,
   "id": "conservative-straight",
   "metadata": {},
   "outputs": [],
   "source": [
    "def cost_function(a2, y):\n",
    "    \n",
    "    ## Your Code Here ##\n",
    "    m = y.shape[1]\n",
    "    return (1/ m) *(-np.sum(y * np.log(a2)))\n",
    "    \n",
    "    ## Code Ends ##"
   ]
  },
  {
   "cell_type": "markdown",
   "id": "configured-draft",
   "metadata": {},
   "source": [
    "# Backward Propagation\n",
    "\n",
    "We need to implement the below equations\n",
    "\n",
    "$dZ_2 = ( A_2 - Y )$\n",
    "\n",
    "$ dW_2 = \\frac{1}{m}. dZ_2 . A_2^T$\n",
    "\n",
    "$ dB_2 = \\frac{1}{m}.sum(dZ_2, 1)$\n",
    "\n",
    "\n",
    "\n",
    "$dZ_1 = W_2^T . dZ_2 * f_1^|(Z_1) $\n",
    "\n",
    "$dW_1 = \\frac{1}{m}.dZ_1.A_1^T$\n",
    "\n",
    "$dB_1 = \\frac{1}{m}.sum(dZ_1, 1)$\n",
    "\n",
    "Helper python functions :\n",
    "- A.T returns the transpose of matrix A\n",
    "- np.dot(A, B) returns the matrix multiplication of A and B\n",
    "- A*B returns the element wise multi-plication for A and B\n",
    "- np.sum(A, axis = 1, keepdims = True) return the column-wise sum for a matrix A\n",
    "- np.sum(A, axis = 0, keepdims = True) returns the row-wise sum for a matrix A"
   ]
  },
  {
   "cell_type": "code",
   "execution_count": 35,
   "id": "regulation-internship",
   "metadata": {},
   "outputs": [],
   "source": [
    "def backward_prop(x, y, parameters, forward_cache):\n",
    "    \n",
    "    m = x.shape[1]\n",
    "    \n",
    "    # Fetching our parameters\n",
    "    w1 = parameters['w1']\n",
    "    b1 = parameters['b1']\n",
    "    w2 = parameters['w2']\n",
    "    b2 = parameters['b2'] \n",
    "    \n",
    "    # Fetching our forward_cache\n",
    "    a1 = forward_cache['a1']\n",
    "    a2 = forward_cache['a2']\n",
    "    \n",
    "    \n",
    "    ## Complete the Code below ##\n",
    "    dz2 = a2 - y\n",
    "    dw2 = 1/m *(np.dot(dz2, a1.T))\n",
    "    db2 = 1/m *(np.sum(dz2, axis = 1, keepdims=True))\n",
    "    \n",
    "    dz1 = (1/m) *np.dot(w2.T, dz2) * derivative_relu(a1)\n",
    "    dw1 = (1/m) * np.dot(dz1, x.T)\n",
    "    db1 = 1/m * (np.sum(dz1, axis = 1, keepdims = True))\n",
    "    ## Your Code ends ##\n",
    "    \n",
    "    ## Returning the Gradients\n",
    "    gradients = {\n",
    "        \"dw1\" : dw1,\n",
    "        \"db1\" : db1,\n",
    "        \"dw2\" : dw2, \n",
    "        \"db2\" : db2\n",
    "    }\n",
    "    \n",
    "    return gradients"
   ]
  },
  {
   "cell_type": "markdown",
   "id": "soviet-sentence",
   "metadata": {},
   "source": [
    "# Update Parameters"
   ]
  },
  {
   "cell_type": "code",
   "execution_count": 36,
   "id": "convertible-samba",
   "metadata": {},
   "outputs": [],
   "source": [
    "def update_parameters(parameters, gradients, learning_rate):\n",
    "    \n",
    "    # Fetching our parameters\n",
    "    w1 = parameters['w1']\n",
    "    b1 = parameters['b1']\n",
    "    w2 = parameters['w2']\n",
    "    b2 = parameters['b2'] \n",
    "    \n",
    "    # Fetching our gradients\n",
    "    dw1 = gradients['dw1']\n",
    "    db1 = gradients['db1']\n",
    "    dw2 = gradients['dw2']\n",
    "    db2 = gradients['db2']\n",
    "    \n",
    "    ## Complete the Code below ##\n",
    "    w1 = w1 - learning_rate * dw1\n",
    "    b1 = b1 - learning_rate * db1\n",
    "    w2 = w2 - learning_rate * dw2\n",
    "    b2 = b2 - learning_rate * db2\n",
    "    ## Your code ends ##\n",
    "    \n",
    "    # Returning the updated parameters\n",
    "    Parameters = {\n",
    "        \"w1\" : w1, \n",
    "        \"b1\" : b1, \n",
    "        \"w2\" : w2,\n",
    "        \"b2\" : b2\n",
    "    }\n",
    "    \n",
    "    return Parameters"
   ]
  },
  {
   "cell_type": "markdown",
   "id": "sharing-effort",
   "metadata": {},
   "source": [
    "# Complete Model\n",
    "\n",
    "Implement the entire Neural Network here\n",
    "\n",
    "### Instructions :\n",
    "\n",
    "We need to initialize parameters once, and after that, we will run the following in a loop:\n",
    "- forward_prop(x, parameters)\n",
    "- cost_function(a2, y)\n",
    "- backward_prop(x, y, parameters, forward_cache)\n",
    "- parameters = update_parameters(parameters, gradients, learning_rate)\n",
    "\n",
    "### Return :\n",
    "- parameters, which will be our trained parameters\n",
    "- cost_list, which contains cost for every iterations."
   ]
  },
  {
   "cell_type": "code",
   "execution_count": 37,
   "id": "powerful-sailing",
   "metadata": {},
   "outputs": [],
   "source": [
    "def model(x, y, n_h, learning_rate, iterations):\n",
    "    \n",
    "    ## Complete the Code Below ##\n",
    "    # must return the number of neurons/features in input layer\n",
    "    n_x = x.shape[0]\n",
    "    # must return the number of neurons in output layer\n",
    "    n_y = y.shape[0]\n",
    "    ## Your Code ends ##\n",
    "    \n",
    "    print(f\"n1    : {n_x}\")\n",
    "    print(f\"n2    : {n_h}\")\n",
    "    print(f\"n3    : {n_y}\")\n",
    "\n",
    "    cost_list = []\n",
    "    \n",
    "    ## Complete the Code Below ##\n",
    "    parameters = initialize_parameters(n_x, n_h, n_y)\n",
    "    ## Your Code ends ##\n",
    "    \n",
    "    ## Complete the Code Below ##\n",
    "    for i in range(iterations):\n",
    "        \n",
    "        # Forward Propagation\n",
    "        for_cache = forward_prop(x=x, parameters=parameters)\n",
    "        # Cost Function\n",
    "        cost = cost_function(a2=for_cache['a2'], y=y)\n",
    "        # Backward propagation\n",
    "        gradients = backward_prop(x=x, y=y, parameters=parameters, forward_cache=for_cache)\n",
    "        # Update Parameters\n",
    "        parameters = update_parameters(gradients=gradients, parameters=parameters, learning_rate=learning_rate)\n",
    "        cost_list.append(cost)\n",
    "\n",
    "        \n",
    "        if i%(iterations/10) == 0 :\n",
    "            print(\"cost after\", i, \"iters is\" ,     cost   )\n",
    "            \n",
    "            \n",
    "    ## Your Code ends ##\n",
    "    \n",
    "    \n",
    "    return parameters, cost_list"
   ]
  },
  {
   "cell_type": "code",
   "execution_count": 38,
   "id": "democratic-williams",
   "metadata": {},
   "outputs": [
    {
     "name": "stdout",
     "output_type": "stream",
     "text": [
      "n1    : 784\n",
      "n2    : 1000\n",
      "n3    : 10\n",
      "cost after 0 iters is 7.916838780460866\n"
     ]
    },
    {
     "name": "stderr",
     "output_type": "stream",
     "text": [
      "/tmp/ipykernel_5426/746406514.py:5: RuntimeWarning: divide by zero encountered in log\n",
      "  return (1/ m) *(-np.sum(y * np.log(a2)))\n",
      "/tmp/ipykernel_5426/746406514.py:5: RuntimeWarning: invalid value encountered in multiply\n",
      "  return (1/ m) *(-np.sum(y * np.log(a2)))\n"
     ]
    },
    {
     "name": "stdout",
     "output_type": "stream",
     "text": [
      "cost after 100 iters is 0.003924137635759026\n",
      "cost after 200 iters is 0.0005007462227866222\n",
      "cost after 300 iters is 0.00029694123882892354\n",
      "cost after 400 iters is 0.00021545013766082244\n",
      "cost after 500 iters is 0.0001707169742309668\n",
      "cost after 600 iters is 0.00014216167168951864\n",
      "cost after 700 iters is 0.00012222859578714287\n",
      "cost after 800 iters is 0.00010746355677323152\n",
      "cost after 900 iters is 9.60538135741294e-05\n"
     ]
    }
   ],
   "source": [
    "## Complete the Code Below ##\n",
    "\n",
    "n_h = 1000\n",
    "learning_rate = 0.01\n",
    "iterations = 1000\n",
    "\n",
    "## Your Code ends ##\n",
    "\n",
    "Parameters, Cost_list = model(X_train, Y_train, n_h = n_h, learning_rate = learning_rate, iterations = iterations)"
   ]
  },
  {
   "cell_type": "code",
   "execution_count": 39,
   "id": "permanent-music",
   "metadata": {},
   "outputs": [
    {
     "data": {
      "image/png": "[encoded data removed]",
      "text/plain": [
       "<Figure size 640x480 with 1 Axes>"
      ]
     },
     "metadata": {},
     "output_type": "display_data"
    },
    {
     "name": "stdout",
     "output_type": "stream",
     "text": [
      "[7.916838780460866, nan, nan, nan, nan, nan, nan, nan, nan, nan, nan, nan, nan, 21.58596377016985, 11.382411907113049, 6.330225642152463, 4.5706495540416086, 4.2154275171187905, 3.826778449127025, 3.5427493092212874, 3.3130366018808797, 3.07833982371809, 2.872913362320122, 2.671044557227243, 2.4831327033713184, 2.3351974137589844, 2.1989603323538995, 2.133862320514309, 2.0094600232568607, 1.9421704390030687, 1.876590728266094, 1.8255944129143284, 1.7846733289153143, 1.8372940311999733, 1.7217127987267187, 1.657679244559926, 1.397030690892299, 1.275020181861422, 1.132128757976189, 1.0513338295581183, 0.977287831642377, 0.9128042195632622, 0.8567494850985791, 0.8103606904843431, 0.7702714288652771, 0.7499721357139957, 0.6978944514978627, 0.6732665501006627, 0.6371223731487606, 0.6233612639219339, 0.6019108464586318, 0.5737907354989193, 0.5469160992063182, 0.49529062204731983, 0.4545734990391853, 0.408554655580538, 0.3772924279561235, 0.34983591747233495, 0.32706153886937345, 0.30722975736433555, 0.2998857492893879, 0.2716324432031049, 0.2618851756231367, 0.23616454025396635, 0.22296458068556022, 0.20310470069023617, 0.19236506773302672, 0.17925987916765548, 0.17159075204043722, 0.15970020368566645, 0.1511355976827756, 0.14048465945566585, 0.13248739804678059, 0.12371480543329363, 0.11634340817184322, 0.1094307587421342, 0.10329859086797086, 0.09841088115209067, 0.09204307885611394, 0.0859133324793517, 0.08000363333425883, 0.07335264958539546, 0.06793163932042214, 0.061882216136227554, 0.05677120213451306, 0.05109113028932876, 0.046138422948492984, 0.04062743087098302, 0.03582344148337687, 0.030589851162502405, 0.02630899706492993, 0.021775881164413976, 0.01802680571364054, 0.014247599485469631, 0.011551445132138927, 0.00967241712511389, 0.008150713390095462, 0.006790936909582085, 0.005596786988837876, 0.004630483211666377, 0.003924137635759026, 0.0034368483177074473, 0.0030897269472666728, 0.0028291387586305405, 0.0026237071462397593, 0.0024555662373819775, 0.0023141195753730876, 0.002192645799941431, 0.0020866346414030075, 0.0019929480072121766, 0.0019093002896343003, 0.0018339695817313215, 0.0017656422480815815, 0.001703285153250163, 0.0016460650541409996, 0.001593317548133351, 0.0015444844500285475, 0.0014991089655818045, 0.0014568053146714725, 0.001417243424273128, 0.00138014401437455, 0.0013452672577951828, 0.0013124006042715326, 0.0012813649183977642, 0.001251997530266422, 0.001224158322387834, 0.0011977231523164111, 0.0011725792122158232, 0.0011486286916446307, 0.0011257826453864043, 0.0011039602828522095, 0.001083090520207995, 0.0010631077787201814, 0.0010439523773585655, 0.0010255721335532255, 0.0010079160410812952, 0.0009909405881659292, 0.0009746045553651379, 0.000958869606438779, 0.0009437018669238697, 0.0009290688625703876, 0.0009149411959674536, 0.0009012917381575646, 0.000888094990288727, 0.0008753274655441269, 0.0008629677682781393, 0.000850994968836497, 0.0008393903228091694, 0.0008281365990603549, 0.0008172164779694142, 0.0008066150122776749, 0.0007963177807978595, 0.0007863106561423957, 0.0007765814780775906, 0.0007671178993515475, 0.0007579085395974989, 0.000748943129419759, 0.0007402112456508243, 0.0007317035496466004, 0.0007234112161034683, 0.0007153255464547124, 0.0007074386277360462, 0.0006997429654943872, 0.0006922311873216831, 0.0006848964729830358, 0.0006777325537670877, 0.0006707330137985839, 0.0006638920129858339, 0.0006572042482385267, 0.0006506640370610729, 0.0006442664657817386, 0.0006380069429099328, 0.0006318804283487007, 0.0006258827842749969, 0.0006200099241511575, 0.0006142575069246177, 0.0006086219337705485, 0.0006030995571347381, 0.0005976866516123016, 0.0005923800187577547, 0.0005871764463170521, 0.000582072707269849, 0.0005770658996241524, 0.000572153255384415, 0.0005673319343706519, 0.0005625992847497779, 0.0005579529322068931, 0.0005533903160865459, 0.000548909086723183, 0.0005445071487959111, 0.0005401821945952747, 0.000535932139778526, 0.000531755118682983, 0.0005276490626171079, 0.0005236121152262266, 0.0005196425549310142, 0.0005157386102416899, 0.0005118985654271567, 0.0005081208424936306, 0.0005044039290067455, 0.0005007462227866222, 0.0004971462785852502, 0.0004936027955253111, 0.0004901142865864944, 0.00048667944677310436, 0.00048329710587199356, 0.00047996592616759705, 0.00047668470389127595, 0.0004734523829344496, 0.0004702677690961667, 0.00046712974475030965, 0.00046403732733708885, 0.0004609895015537351, 0.0004579851943540818, 0.00045502349892602754, 0.0004521035131133596, 0.0004492242901845501, 0.00044638493226346025, 0.00044358463936784275, 0.0004408225971904598, 0.0004380979036532169, 0.0004354098541497265, 0.00043275774171874293, 0.0004301406875708184, 0.0004275580670336886, 0.00042500920084608196, 0.00042249334821649727, 0.0004200098776767218, 0.0004175581467006651, 0.00041513755330992353, 0.0004127474483210312, 0.0004103872364260055, 0.00040805640808138624, 0.0004057543365120515, 0.0004034804673772455, 0.0004012343239345528, 0.0003990153701867939, 0.00039682304440802856, 0.00039465691120452574, 0.00039251650149577203, 0.00039040128020936484, 0.0003883108380719552, 0.0003862447186799657, 0.0003842024956829708, 0.0003821837199013154, 0.0003801879756818975, 0.00037821491065433816, 0.00037626406854170813, 0.00037433506655654337, 0.0003724275710636131, 0.00037054119920965404, 0.00036867554704600496, 0.0003668303121087595, 0.00036500515180024594, 0.00036319969495206695, 0.0003614136377567843, 0.0003596466475000123, 0.00035789844125455795, 0.0003561686711912619, 0.0003544570436249934, 0.00035276329678667637, 0.00035108712850039363, 0.0003494282273904829, 0.0003477863557405893, 0.00034616125571956835, 0.0003445526140675161, 0.00034296020912754136, 0.0003413837809520092, 0.0003398230953734628, 0.0003382778875391857, 0.00033674792466339206, 0.00033523299143744, 0.00033373286545064376, 0.0003322472854171194, 0.00033077605943775395, 0.0003293190018047261, 0.0003278758496696918, 0.0003264464228691409, 0.00032503052503938656, 0.00032362796806981186, 0.0003222385305134872, 0.00032086203765608126, 0.0003194983036589255, 0.00031814716561593824, 0.00031680840765454583, 0.000315481867008368, 0.00031416739922980906, 0.0003128648108773672, 0.00031157392369069885, 0.00031029460348690077, 0.00030902668721425296, 0.00030777000027133657, 0.00030652440425410265, 0.00030528973336409405, 0.000304065872674872, 0.0003028526452897599, 0.00030164990663175727, 0.00030045753472009786, 0.00029927540889197214, 0.0002981033434191103, 0.00029694123882892354, 0.00029578896631685017, 0.0002946463973605989, 0.0002935133937947407, 0.00029238984182051433, 0.0002912756144172597, 0.00029017060998511593, 0.0002890746828505669, 0.00028798772641911276, 0.0002869096445606253, 0.00028584031673542336, 0.000284779617213138, 0.00028372745823812106, 0.0002826837288028015, 0.0002816483281673842, 0.0002806211463444105, 0.00027960207899674686, 0.00027859104174857364, 0.00027758794067699364, 0.0002765926519597052, 0.0002756050999238258, 0.0002746252055645496, 0.000273652857458518, 0.0002726879647252541, 0.0002717304524787218, 0.000270780226752112, 0.00026983720770021297, 0.00026890130199445174, 0.0002679724270417136, 0.00026705051238178345, 0.00026613547805680624, 0.00026522722639983783, 0.0002643256933747131, 0.0002634308055561103, 0.000262542486920642, 0.00026166065148219673, 0.0002607852386462276, 0.0002599161742334365, 0.0002590533958257636, 0.0002581968105659362, 0.0002573463600488055, 0.0002565019843117874, 0.00025566361755171706, 0.0002548311740981423, 0.0002540046082767172, 0.00025318384573649254, 0.00025236883826754814, 0.0002515595096352297, 0.00025075579734682406, 0.0002499576453942944, 0.00024916501189717474, 0.0002483778104436842, 0.0002475959919636086, 0.0002468195097267608, 0.00024604830305364366, 0.00024528231093863165, 0.0002445214854493635, 0.00024376576511454695, 0.0002430151056090967, 0.00024226945988171445, 0.0002415287569100463, 0.00024079295620493517, 0.00024006201632210624, 0.00023933588265721858, 0.00023861449574074718, 0.00023789782039425198, 0.00023718580077873935, 0.0002364784040576906, 0.00023577557063653672, 0.00023507725326610978, 0.0002343834141486763, 0.00023369401687900766, 0.00023300900256674437, 0.00023232833179604237, 0.00023165196715305432, 0.000230979863081234, 0.0002303119848850013, 0.00022964828147171003, 0.0002289887133611271, 0.00022833324677356038, 0.0002276818516431002, 0.00022703446457453407, 0.0002263910623571168, 0.0002257516078848351, 0.00022511606274857555, 0.0002244843886088127, 0.0002238565479198083, 0.0002232325022508271, 0.00022261222462023538, 0.00022199568212279467, 0.00022138282267384498, 0.0002207736251562336, 0.00022016805623121605, 0.00021956608304736787, 0.00021896766586104225, 0.00021837277784722146, 0.00021778138102146745, 0.00021719345233116497, 0.00021660896213755357, 0.00021602786336278478, 0.00021545013766082244, 0.00021487575616861083, 0.00021430468863534725, 0.0002137368974844408, 0.00021317236173094739, 0.00021261104562655565, 0.00021205292906760912, 0.00021149798520502666, 0.00021094617267138793, 0.00021039747343493614, 0.00020985186275674844, 0.00020930931375666548, 0.00020876979173063082, 0.0002082332781325083, 0.00020769974114785743, 0.0002071691620288153, 0.00020664151793030444, 0.00020611677051635098, 0.0002055949029923006, 0.00020507589483754956, 0.0002045597194224823, 0.00020404634840016542, 0.00020353576352283957, 0.00020302793545526543, 0.0002025228471291108, 0.00020202048182855293, 0.00020152079974909752, 0.00020102378770119083, 0.00020052942835935243, 0.00020003769513685752, 0.0001995485657183533, 0.00019906202197161616, 0.00019857803709009354, 0.00019809659330802436, 0.00019761768121718222, 0.00019714126105682786, 0.00019666732055242714, 0.00019619584493668163, 0.00019572680893141812, 0.00019526019751356732, 0.00019479598713371287, 0.00019433415694699037, 0.00019387469097720942, 0.00019341757778703605, 0.00019296278809774817, 0.00019251030445511258, 0.000192060115379956, 0.00019161219639902483, 0.00019116653710202742, 0.00019072311505770635, 0.00019028191018146908, 0.00018984290783032387, 0.00018940609643770806, 0.0001889714562696402, 0.00018853896309680722, 0.00018810860928021613, 0.0001876803744868226, 0.00018725424458855788, 0.00018683020743510937, 0.00018640823766726233, 0.00018598832365425934, 0.00018557045305921978, 0.00018515461029733454, 0.00018474077742371776, 0.0001843289396254911, 0.00018391908276177882, 0.0001835111911878408, 0.00018310525528780403, 0.00018270125575964356, 0.00018229917629020221, 0.00018189900751171276, 0.0001815007339821188, 0.00018110434372522056, 0.00018070981843071343, 0.0001803171483932609, 0.00017992631687251983, 0.00017953731227428142, 0.0001791501279245107, 0.000178764739210173, 0.00017838113734017864, 0.00017799931336582588, 0.00017761925064643891, 0.00017724094102475677, 0.0001768643676917612, 0.00017648951749892292, 0.00017611637960787712, 0.00017574494547114078, 0.00017537520348714182, 0.00017500713307517645, 0.00017464073057024983, 0.00017427598059874903, 0.00017391287214175766, 0.000173551401395612, 0.00017319154459889682, 0.00017283329492514716, 0.00017247664477864532, 0.0001721215809920614, 0.00017176809517249292, 0.00017141617142271882, 0.00017106580161879798, 0.0001707169742309668, 0.00017036968048777162, 0.00017002391407987833, 0.00016967965467587677, 0.00016933689778669803, 0.0001689956340222634, 0.00016865585049137744, 0.00016831754282638635, 0.0001679806959629319, 0.00016764529951759604, 0.00016731134509738848, 0.00016697882617950466, 0.00016664773306607195, 0.000166318050960055, 0.00016598977492479305, 0.0001656628935595195, 0.0001653373978380005, 0.00016501328484068702, 0.00016469053749327455, 0.00016436914756556031, 0.0001640491102873884, 0.00016373041469302217, 0.00016341305354185864, 0.00016309701785365596, 0.0001627822964239457, 0.00016246888187888115, 0.00016215676798868835, 0.00016184594677252158, 0.00016153640778759294, 0.00016122814178945336, 0.00016092114375697276, 0.00016061540291502263, 0.0001603109126662381, 0.00016000766944412642, 0.00015970565704759364, 0.00015940487079305055, 0.00015910530650579559, 0.00015880695245141594, 0.0001585098049469304, 0.00015821385313280982, 0.0001579190896638103, 0.00015762550735902908, 0.00015733310144512542, 0.0001570418638316453, 0.00015675178474557484, 0.00015646285946384719, 0.00015617507976007942, 0.00015588843773931506, 0.00015560292939480536, 0.00015531854832935362, 0.00015503528252014908, 0.00015475312779536615, 0.00015447207926180757, 0.00015419212790976534, 0.00015391327070871495, 0.00015363549703283126, 0.00015335880029102806, 0.00015308317509237168, 0.0001528086178984572, 0.00015253512003805824, 0.00015226267353784262, 0.00015199127443656096, 0.00015172091537138065, 0.00015145158966212787, 0.00015118329364832475, 0.00015091602123247662, 0.00015064976240327743, 0.0001503845142412928, 0.0001501202705576722, 0.0001498570245290372, 0.00014959477308480382, 0.00014933350877486997, 0.0001490732231122836, 0.00014881391251726366, 0.00014855557371693534, 0.00014829819908187148, 0.00014804178274653882, 0.00014778631968850598, 0.00014753180314461907, 0.00014727822891542558, 0.00014702559219142321, 0.00014677388865205144, 0.00014652310915952058, 0.00014627325124085328, 0.0001460243088871334, 0.00014577627648721718, 0.00014552915011317285, 0.00014528292676077099, 0.00014503759529465741, 0.00014479315374516267, 0.0001445495995122252, 0.00014430692440838477, 0.00014406512580572722, 0.0001438241981693151, 0.00014358413452885435, 0.00014334493199640882, 0.00014310658615167109, 0.0001428690916638849, 0.00014263244526545663, 0.00014239663979310246, 0.00014216167168951864, 0.00014192753569251682, 0.00014169422802485314, 0.00014146174734348254, 0.0001412300836903893, 0.00014099923365983518, 0.0001407691962958333, 0.00014053996362716351, 0.00014031153207427448, 0.00014008390121524823, 0.00013985706085294775, 0.00013963100942289644, 0.00013940574253138325, 0.00013918125603619726, 0.00013895754616870793, 0.00013873460984923652, 0.00013851244024401134, 0.0001382910333728008, 0.0001380703866219298, 0.00013785049762571252, 0.000137631359240798, 0.00013741296886743537, 0.00013719532320074867, 0.0001369784162427416, 0.0001367622452661767, 0.00013654680714081315, 0.00013633209939637925, 0.00013611811448016958, 0.00013590485008444056, 0.00013569230359977165, 0.00013548046989454748, 0.0001352693457650844, 0.00013505893100784685, 0.00013484921519273113, 0.00013464019868554848, 0.0001344318783220168, 0.00013422424829013052, 0.00013401730737728573, 0.0001338110527373986, 0.0001336054771851317, 0.00013340057890357627, 0.00013319635550071196, 0.0001329928032995675, 0.0001327899177856634, 0.000132587697483309, 0.00013238613773115603, 0.0001321852338161063, 0.0001319849841467267, 0.00013178538654885563, 0.00013158643593984328, 0.00013138812994269001, 0.00013119046446388033, 0.00013099343691079485, 0.0001307970431684467, 0.00013060128167630274, 0.0001304061499884069, 0.00013021164227047043, 0.00013001775639945852, 0.00012982449042583136, 0.00012963183962317348, 0.00012943980178578934, 0.00012924837598041368, 0.0001290575561993358, 0.00012886733964627883, 0.00012867772473912616, 0.00012848870802409804, 0.000128300286134021, 0.00012811245820664648, 0.00012792521936814814, 0.00012773856601630738, 0.00012755249713917256, 0.000127367009440391, 0.0001271820992816759, 0.00012699776598802348, 0.00012681400550583946, 0.00012663081368624054, 0.00012644818877201997, 0.00012626612966621932, 0.00012608463158104646, 0.0001259036929661418, 0.00012572331187151416, 0.0001255434837727051, 0.00012536420610743455, 0.0001251854772967737, 0.00012500729552880258, 0.0001248296572115954, 0.00012465255925269062, 0.00012447600041101524, 0.00012429997651556765, 0.00012412448555899298, 0.00012394952659149655, 0.00012377509612761494, 0.00012360119154867358, 0.000123427809695238, 0.00012325494966725163, 0.0001230826074363244, 0.00012291078122465265, 0.00012273947071410874, 0.00012256867116350185, 0.0001223983794215661, 0.00012222859578714287, 0.0001220593158823305, 0.00012189053776789594, 0.00012172225999983572, 0.00012155448171747614, 0.00012138719658231409, 0.00012122040422892206, 0.00012105410411562795, 0.00012088829152854344, 0.00012072296505352246, 0.00012055812503749836, 0.00012039376552791346, 0.00012022988533494449, 0.00012006648313116853, 0.00011990355678692316, 0.00011974110340144765, 0.00011957912183592654, 0.00011941761023004336, 0.00011925656420412295, 0.000119095983184272, 0.00011893586594338144, 0.00011877620884821375, 0.00011861701103634115, 0.00011845827087665342, 0.00011829998460947647, 0.00011814215054078267, 0.0001179847674046466, 0.00011782783393443835, 0.00011767134625629996, 0.00011751530470660577, 0.00011735970586078223, 0.00011720454714063824, 0.00011704982731783475, 0.00011689554505787321, 0.00011674169834988595, 0.00011658828491150375, 0.00011643530287017865, 0.00011628275063196084, 0.00011613062532555306, 0.00011597892596702633, 0.00011582765135631201, 0.0001156767987127769, 0.00011552636686646527, 0.00011537635314229008, 0.00011522675643043093, 0.00011507757391994832, 0.00011492880517683686, 0.0001147804482730631, 0.00011463250133386664, 0.00011448496189057579, 0.00011433782899183422, 0.0001141911000147895, 0.00011404477359187511, 0.00011389884919894025, 0.00011375332430939215, 0.00011360819670897262, 0.00011346346529148916, 0.0001133191284433364, 0.00011317518352210875, 0.0001130316297601687, 0.00011288846645928699, 0.00011274569115496808, 0.00011260330075841568, 0.00011246129601680031, 0.00011231967367963502, 0.0001121784322657726, 0.00011203757137484219, 0.00011189708913224557, 0.00011175698351387016, 0.00011161725209415683, 0.00011147789526720262, 0.00011133890955872456, 0.00011120029419729335, 0.00011106204904610296, 0.00011092417118017825, 0.00011078665875472738, 0.00011064951097666722, 0.00011051272607742415, 0.00011037630236103922, 0.00011024023878092227, 0.00011010453479204241, 0.00010996918736735331, 0.00010983419516523665, 0.00010969955787228253, 0.00010956527257098434, 0.00010943133877975547, 0.00010929775518594734, 0.0001091645209028709, 0.00010903163300381837, 0.00010889909062749897, 0.00010876689339483666, 0.00010863503801970116, 0.00010850352485733609, 0.00010837235202446489, 0.0001082415189178795, 0.00010811102237317437, 0.00010798086187470479, 0.00010785103684934708, 0.00010772154475921129, 0.00010759238493414194, 0.00010746355677323152, 0.00010733505848863398, 0.000107206887434877, 0.00010707904367282115, 0.00010695152602472828, 0.00010682433215147126, 0.00010669746168594995, 0.00010657091403790699, 0.00010644468660930236, 0.00010631877800747731, 0.00010619318817535912, 0.00010606791497935164, 0.00010594295705919058, 0.0001058183141637559, 0.00010569398521180643, 0.00010556996736480858, 0.0001054462604241383, 0.00010532286350051148, 0.00010519977440778209, 0.00010507699251319497, 0.00010495451760053903, 0.00010483234761929205, 0.00010471048053616632, 0.00010458891694173656, 0.00010446765423045215, 0.00010434669160615889, 0.00010422602828596842, 0.00010410566349724003, 0.00010398559557908486, 0.00010386582266206524, 0.00010374634491729686, 0.00010362716008681673, 0.00010350826778089923, 0.00010338966660015276, 0.00010327135618659918, 0.0001031533350451639, 0.00010303560085581754, 0.00010291815451468889, 0.00010280099333735061, 0.00010268411682249284, 0.00010256752418511678, 0.00010245121471419935, 0.00010233518677915707, 0.00010221943854218337, 0.00010210397076260009, 0.00010198878052249001, 0.0001018738677072701, 0.00010175923191387581, 0.00010164487135653649, 0.00010153078523720206, 0.00010141697207618572, 0.00010130343158232153, 0.00010119016172639425, 0.00010107716246628831, 0.00010096443301453126, 0.00010085197142043057, 0.00010073977778599525, 0.00010062785006209475, 0.00010051618772082865, 0.0001004047895563966, 0.00010029365508202702, 0.00010018278322897817, 0.00010007217281182026, 9.996182348395597e-05, 9.985173342602585e-05, 9.974190204520639e-05, 9.963232808921137e-05, 9.952301135096126e-05, 9.941395057587252e-05, 9.930514460706416e-05, 9.919659323350051e-05, 9.908829498471307e-05, 9.89802484707224e-05, 9.887245299825254e-05, 9.87649088290722e-05, 9.865761378565472e-05, 9.855056722403288e-05, 9.844376939131579e-05, 9.833721798072168e-05, 9.823091208061493e-05, 9.812485127366923e-05, 9.801903557859654e-05, 9.791346248874933e-05, 9.780813206556268e-05, 9.770304430887498e-05, 9.759819666610369e-05, 9.749358880744487e-05, 9.738921983495945e-05, 9.72850900940177e-05, 9.718119698691116e-05, 9.707754056349196e-05, 9.697412078875523e-05, 9.687093564454192e-05, 9.676798414951713e-05, 9.666526590565682e-05, 9.656278105639713e-05, 9.64605269846059e-05, 9.635850389801126e-05, 9.625671191720647e-05, 9.615514876963152e-05, 9.60538135741294e-05, 9.595270639110459e-05, 9.585182640756953e-05, 9.575117190208199e-05, 9.565074315314576e-05, 9.555053946212069e-05, 9.545055943141884e-05, 9.535080202774843e-05, 9.525126696736536e-05, 9.515195354232995e-05, 9.505286067100034e-05, 9.49539878071261e-05, 9.485533452082236e-05, 9.475690023936038e-05, 9.465868270232199e-05, 9.456068258228295e-05, 9.446289881583136e-05, 9.436533012379425e-05, 9.426797655931285e-05, 9.417083730211934e-05, 9.407391154674983e-05, 9.39771979360754e-05, 9.388069676614416e-05, 9.378440622766936e-05, 9.368832623402199e-05, 9.35924563468466e-05, 9.349679530037314e-05, 9.340134293705646e-05, 9.33060982168927e-05, 9.321106061057957e-05, 9.311622878168586e-05, 9.302160270743663e-05, 9.292718166005339e-05, 9.283296480807432e-05, 9.27389515081323e-05, 9.264514144930404e-05, 9.255153369101948e-05, 9.245812676390363e-05, 9.236492079861017e-05, 9.227191545766535e-05, 9.217910933742908e-05, 9.208650197623189e-05, 9.19940934245109e-05, 9.190188265864855e-05, 9.180986784858456e-05, 9.171804976167887e-05, 9.162642742324566e-05, 9.153499972798666e-05, 9.144376653263581e-05, 9.13527271660376e-05, 9.126188148850423e-05, 9.117122742273627e-05, 9.108076526357036e-05, 9.099049460195036e-05, 9.090041434683165e-05, 9.081052375383878e-05, 9.072082292747447e-05, 9.063131127870067e-05, 9.054198704806501e-05, 9.045285043866419e-05, 9.036390108276788e-05, 9.027513753375232e-05, 9.018655964866207e-05, 9.009816740884322e-05, 9.000995936224276e-05, 8.99219356056566e-05, 8.98340948335164e-05, 8.974643693539575e-05, 8.965896103095439e-05, 8.957166645060602e-05, 8.948455343968306e-05, 8.939762053175193e-05, 8.931086761198106e-05, 8.922429403049445e-05, 8.913789931255002e-05, 8.905168221686956e-05, 8.896564251772418e-05, 8.887978074221654e-05, 8.879409457423843e-05, 8.870858440893131e-05, 8.862325035774085e-05, 8.853809066425387e-05, 8.845310479465427e-05, 8.836829269416379e-05, 8.828365420510919e-05, 8.819918776219682e-05, 8.811489353772938e-05, 8.803077093835415e-05, 8.794681990562218e-05, 8.786303843428135e-05, 8.777942685387954e-05, 8.769598534466859e-05, 8.76127120297642e-05, 8.752960701734951e-05, 8.744667017750533e-05, 8.736390099911546e-05, 8.728129792711423e-05, 8.71988612863088e-05, 8.711659057384949e-05, 8.703448461625596e-05]\n"
     ]
    }
   ],
   "source": [
    "t = np.arange(0, iterations)\n",
    "plt.plot(t, Cost_list)\n",
    "plt.show()\n",
    "print(Cost_list)"
   ]
  },
  {
   "cell_type": "markdown",
   "id": "apparent-contribution",
   "metadata": {},
   "source": [
    "# Checking Accuracy\n",
    "\n",
    "Run the below cells to check your model Accuracy "
   ]
  },
  {
   "cell_type": "code",
   "execution_count": 40,
   "id": "alone-liver",
   "metadata": {},
   "outputs": [],
   "source": [
    "def accuracy(inp, labels, parameters):\n",
    "    forward_cache = forward_prop(inp, parameters)\n",
    "    a_out = forward_cache['a2']   # containes propabilities with shape(10, 1)\n",
    "    \n",
    "    a_out = np.argmax(a_out, 0)  # 0 represents row wise \n",
    "    \n",
    "    labels = np.argmax(labels, 0)\n",
    "    \n",
    "    acc = np.mean(a_out == labels)*100\n",
    "    \n",
    "    return acc"
   ]
  },
  {
   "cell_type": "code",
   "execution_count": 41,
   "id": "later-brake",
   "metadata": {},
   "outputs": [
    {
     "name": "stdout",
     "output_type": "stream",
     "text": [
      "Accuracy of Train Dataset 100.0 %\n",
      "Accuracy of Test Dataset 84.86 %\n"
     ]
    }
   ],
   "source": [
    "print(\"Accuracy of Train Dataset\", accuracy(X_train, Y_train, Parameters), \"%\")\n",
    "print(\"Accuracy of Test Dataset\", round(accuracy(X_test, Y_test, Parameters), 2), \"%\")"
   ]
  },
  {
   "cell_type": "code",
   "execution_count": 42,
   "id": "banned-clone",
   "metadata": {},
   "outputs": [
    {
     "data": {
      "image/png": "[encoded data removed]",
      "text/plain": [
       "<Figure size 640x480 with 1 Axes>"
      ]
     },
     "metadata": {},
     "output_type": "display_data"
    },
    {
     "name": "stdout",
     "output_type": "stream",
     "text": [
      "Our model says it is : 5\n"
     ]
    }
   ],
   "source": [
    "idx = int(random.randrange(0,X_test.shape[1]))\n",
    "plt.imshow(X_test[:, idx].reshape((28,28)),cmap='gray')\n",
    "plt.show()\n",
    "\n",
    "cache = forward_prop(X_test[:, idx].reshape(X_test[:, idx].shape[0], 1), Parameters)\n",
    "a_pred = cache['a2']  \n",
    "a_pred = np.argmax(a_pred, 0)\n",
    "\n",
    "print(\"Our model says it is :\", a_pred[0])"
   ]
  },
  {
   "cell_type": "markdown",
   "id": "1c3f4909-3944-4036-bfa6-26b52a3a361c",
   "metadata": {},
   "source": [
    "## Experimenting with Hyper Parameters\n",
    "\n",
    "The hyper parameters are:\n",
    "- no. of neurons in hidden layer\n",
    "- learning rate\n",
    "- activation function"
   ]
  },
  {
   "cell_type": "markdown",
   "id": "f2ac1bfd",
   "metadata": {},
   "source": [
    "#### Hidden Layer neurons test"
   ]
  }
 ],
 "metadata": {
  "kernelspec": {
   "display_name": "Python 3 (ipykernel)",
   "language": "python",
   "name": "python3"
  },
  "language_info": {
   "codemirror_mode": {
    "name": "ipython",
    "version": 3
   },
   "file_extension": ".py",
   "mimetype": "text/x-python",
   "name": "python",
   "nbconvert_exporter": "python",
   "pygments_lexer": "ipython3",
   "version": "3.12.3"
  }
 },
 "nbformat": 4,
 "nbformat_minor": 5
}
