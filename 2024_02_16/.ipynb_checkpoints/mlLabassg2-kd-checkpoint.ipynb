{
 "cells": [
  {
   "cell_type": "markdown",
   "id": "9be0fd44",
   "metadata": {},
   "source": [
    "# Assignment - 2"
   ]
  },
  {
   "cell_type": "markdown",
   "id": "a5bd2485",
   "metadata": {},
   "source": [
    "## 1st Question"
   ]
  },
  {
   "cell_type": "code",
   "execution_count": 13,
   "id": "cf351070",
   "metadata": {},
   "outputs": [
    {
     "data": {
      "text/html": [
       "<div>\n",
       "<style scoped>\n",
       "    .dataframe tbody tr th:only-of-type {\n",
       "        vertical-align: middle;\n",
       "    }\n",
       "\n",
       "    .dataframe tbody tr th {\n",
       "        vertical-align: top;\n",
       "    }\n",
       "\n",
       "    .dataframe thead th {\n",
       "        text-align: right;\n",
       "    }\n",
       "</style>\n",
       "<table border=\"1\" class=\"dataframe\">\n",
       "  <thead>\n",
       "    <tr style=\"text-align: right;\">\n",
       "      <th></th>\n",
       "      <th>Id</th>\n",
       "      <th>SepalLengthCm</th>\n",
       "      <th>SepalWidthCm</th>\n",
       "      <th>PetalLengthCm</th>\n",
       "      <th>PetalWidthCm</th>\n",
       "      <th>Species</th>\n",
       "    </tr>\n",
       "  </thead>\n",
       "  <tbody>\n",
       "    <tr>\n",
       "      <th>0</th>\n",
       "      <td>1</td>\n",
       "      <td>5.1</td>\n",
       "      <td>3.5</td>\n",
       "      <td>1.4</td>\n",
       "      <td>0.2</td>\n",
       "      <td>0</td>\n",
       "    </tr>\n",
       "    <tr>\n",
       "      <th>1</th>\n",
       "      <td>2</td>\n",
       "      <td>4.9</td>\n",
       "      <td>3.0</td>\n",
       "      <td>1.4</td>\n",
       "      <td>0.2</td>\n",
       "      <td>0</td>\n",
       "    </tr>\n",
       "    <tr>\n",
       "      <th>2</th>\n",
       "      <td>3</td>\n",
       "      <td>4.7</td>\n",
       "      <td>3.2</td>\n",
       "      <td>1.3</td>\n",
       "      <td>0.2</td>\n",
       "      <td>0</td>\n",
       "    </tr>\n",
       "    <tr>\n",
       "      <th>3</th>\n",
       "      <td>4</td>\n",
       "      <td>4.6</td>\n",
       "      <td>3.1</td>\n",
       "      <td>1.5</td>\n",
       "      <td>0.2</td>\n",
       "      <td>0</td>\n",
       "    </tr>\n",
       "    <tr>\n",
       "      <th>4</th>\n",
       "      <td>5</td>\n",
       "      <td>5.0</td>\n",
       "      <td>3.6</td>\n",
       "      <td>1.4</td>\n",
       "      <td>0.2</td>\n",
       "      <td>0</td>\n",
       "    </tr>\n",
       "    <tr>\n",
       "      <th>...</th>\n",
       "      <td>...</td>\n",
       "      <td>...</td>\n",
       "      <td>...</td>\n",
       "      <td>...</td>\n",
       "      <td>...</td>\n",
       "      <td>...</td>\n",
       "    </tr>\n",
       "    <tr>\n",
       "      <th>145</th>\n",
       "      <td>146</td>\n",
       "      <td>6.7</td>\n",
       "      <td>3.0</td>\n",
       "      <td>5.2</td>\n",
       "      <td>2.3</td>\n",
       "      <td>1</td>\n",
       "    </tr>\n",
       "    <tr>\n",
       "      <th>146</th>\n",
       "      <td>147</td>\n",
       "      <td>6.3</td>\n",
       "      <td>2.5</td>\n",
       "      <td>5.0</td>\n",
       "      <td>1.9</td>\n",
       "      <td>1</td>\n",
       "    </tr>\n",
       "    <tr>\n",
       "      <th>147</th>\n",
       "      <td>148</td>\n",
       "      <td>6.5</td>\n",
       "      <td>3.0</td>\n",
       "      <td>5.2</td>\n",
       "      <td>2.0</td>\n",
       "      <td>1</td>\n",
       "    </tr>\n",
       "    <tr>\n",
       "      <th>148</th>\n",
       "      <td>149</td>\n",
       "      <td>6.2</td>\n",
       "      <td>3.4</td>\n",
       "      <td>5.4</td>\n",
       "      <td>2.3</td>\n",
       "      <td>1</td>\n",
       "    </tr>\n",
       "    <tr>\n",
       "      <th>149</th>\n",
       "      <td>150</td>\n",
       "      <td>5.9</td>\n",
       "      <td>3.0</td>\n",
       "      <td>5.1</td>\n",
       "      <td>1.8</td>\n",
       "      <td>1</td>\n",
       "    </tr>\n",
       "  </tbody>\n",
       "</table>\n",
       "<p>150 rows × 6 columns</p>\n",
       "</div>"
      ],
      "text/plain": [
       "      Id  SepalLengthCm  SepalWidthCm  PetalLengthCm  PetalWidthCm  Species\n",
       "0      1            5.1           3.5            1.4           0.2        0\n",
       "1      2            4.9           3.0            1.4           0.2        0\n",
       "2      3            4.7           3.2            1.3           0.2        0\n",
       "3      4            4.6           3.1            1.5           0.2        0\n",
       "4      5            5.0           3.6            1.4           0.2        0\n",
       "..   ...            ...           ...            ...           ...      ...\n",
       "145  146            6.7           3.0            5.2           2.3        1\n",
       "146  147            6.3           2.5            5.0           1.9        1\n",
       "147  148            6.5           3.0            5.2           2.0        1\n",
       "148  149            6.2           3.4            5.4           2.3        1\n",
       "149  150            5.9           3.0            5.1           1.8        1\n",
       "\n",
       "[150 rows x 6 columns]"
      ]
     },
     "execution_count": 13,
     "metadata": {},
     "output_type": "execute_result"
    }
   ],
   "source": [
    "# 1st question\n",
    "import pandas as pd\n",
    "import numpy as np\n",
    "import matplotlib.pyplot as plt\n",
    "from sklearn.datasets import load_iris\n",
    "from sklearn.model_selection import train_test_split\n",
    "iris_data = pd.read_csv('Iris.csv')\n",
    "iris_data['Species'] = iris_data['Species'].replace(\n",
    "    {\n",
    "        'Iris-setosa':0,\n",
    "        'Iris-versicolor':0,\n",
    "        'Iris-virginica':1\n",
    "    }\n",
    ")\n",
    "iris_data"
   ]
  },
  {
   "cell_type": "markdown",
   "id": "fc9350e0",
   "metadata": {},
   "source": [
    "## 2nd question"
   ]
  },
  {
   "cell_type": "code",
   "execution_count": 14,
   "id": "c5d0bdfc",
   "metadata": {},
   "outputs": [
    {
     "data": {
      "text/html": [
       "<div>\n",
       "<style scoped>\n",
       "    .dataframe tbody tr th:only-of-type {\n",
       "        vertical-align: middle;\n",
       "    }\n",
       "\n",
       "    .dataframe tbody tr th {\n",
       "        vertical-align: top;\n",
       "    }\n",
       "\n",
       "    .dataframe thead th {\n",
       "        text-align: right;\n",
       "    }\n",
       "</style>\n",
       "<table border=\"1\" class=\"dataframe\">\n",
       "  <thead>\n",
       "    <tr style=\"text-align: right;\">\n",
       "      <th></th>\n",
       "      <th>Id</th>\n",
       "      <th>SepalLengthCm</th>\n",
       "      <th>SepalWidthCm</th>\n",
       "      <th>PetalLengthCm</th>\n",
       "      <th>PetalWidthCm</th>\n",
       "      <th>Species</th>\n",
       "    </tr>\n",
       "  </thead>\n",
       "  <tbody>\n",
       "    <tr>\n",
       "      <th>count</th>\n",
       "      <td>150.000000</td>\n",
       "      <td>150.000000</td>\n",
       "      <td>150.000000</td>\n",
       "      <td>150.000000</td>\n",
       "      <td>150.000000</td>\n",
       "      <td>150.000000</td>\n",
       "    </tr>\n",
       "    <tr>\n",
       "      <th>mean</th>\n",
       "      <td>75.500000</td>\n",
       "      <td>5.843333</td>\n",
       "      <td>3.054000</td>\n",
       "      <td>3.758667</td>\n",
       "      <td>1.198667</td>\n",
       "      <td>0.333333</td>\n",
       "    </tr>\n",
       "    <tr>\n",
       "      <th>std</th>\n",
       "      <td>43.445368</td>\n",
       "      <td>0.828066</td>\n",
       "      <td>0.433594</td>\n",
       "      <td>1.764420</td>\n",
       "      <td>0.763161</td>\n",
       "      <td>0.472984</td>\n",
       "    </tr>\n",
       "    <tr>\n",
       "      <th>min</th>\n",
       "      <td>1.000000</td>\n",
       "      <td>4.300000</td>\n",
       "      <td>2.000000</td>\n",
       "      <td>1.000000</td>\n",
       "      <td>0.100000</td>\n",
       "      <td>0.000000</td>\n",
       "    </tr>\n",
       "    <tr>\n",
       "      <th>25%</th>\n",
       "      <td>38.250000</td>\n",
       "      <td>5.100000</td>\n",
       "      <td>2.800000</td>\n",
       "      <td>1.600000</td>\n",
       "      <td>0.300000</td>\n",
       "      <td>0.000000</td>\n",
       "    </tr>\n",
       "    <tr>\n",
       "      <th>50%</th>\n",
       "      <td>75.500000</td>\n",
       "      <td>5.800000</td>\n",
       "      <td>3.000000</td>\n",
       "      <td>4.350000</td>\n",
       "      <td>1.300000</td>\n",
       "      <td>0.000000</td>\n",
       "    </tr>\n",
       "    <tr>\n",
       "      <th>75%</th>\n",
       "      <td>112.750000</td>\n",
       "      <td>6.400000</td>\n",
       "      <td>3.300000</td>\n",
       "      <td>5.100000</td>\n",
       "      <td>1.800000</td>\n",
       "      <td>1.000000</td>\n",
       "    </tr>\n",
       "    <tr>\n",
       "      <th>max</th>\n",
       "      <td>150.000000</td>\n",
       "      <td>7.900000</td>\n",
       "      <td>4.400000</td>\n",
       "      <td>6.900000</td>\n",
       "      <td>2.500000</td>\n",
       "      <td>1.000000</td>\n",
       "    </tr>\n",
       "  </tbody>\n",
       "</table>\n",
       "</div>"
      ],
      "text/plain": [
       "               Id  SepalLengthCm  SepalWidthCm  PetalLengthCm  PetalWidthCm  \\\n",
       "count  150.000000     150.000000    150.000000     150.000000    150.000000   \n",
       "mean    75.500000       5.843333      3.054000       3.758667      1.198667   \n",
       "std     43.445368       0.828066      0.433594       1.764420      0.763161   \n",
       "min      1.000000       4.300000      2.000000       1.000000      0.100000   \n",
       "25%     38.250000       5.100000      2.800000       1.600000      0.300000   \n",
       "50%     75.500000       5.800000      3.000000       4.350000      1.300000   \n",
       "75%    112.750000       6.400000      3.300000       5.100000      1.800000   \n",
       "max    150.000000       7.900000      4.400000       6.900000      2.500000   \n",
       "\n",
       "          Species  \n",
       "count  150.000000  \n",
       "mean     0.333333  \n",
       "std      0.472984  \n",
       "min      0.000000  \n",
       "25%      0.000000  \n",
       "50%      0.000000  \n",
       "75%      1.000000  \n",
       "max      1.000000  "
      ]
     },
     "execution_count": 14,
     "metadata": {},
     "output_type": "execute_result"
    }
   ],
   "source": [
    "iris_data.describe()"
   ]
  },
  {
   "cell_type": "markdown",
   "id": "12d0141a",
   "metadata": {},
   "source": [
    "## 3rd question"
   ]
  },
  {
   "cell_type": "code",
   "execution_count": 15,
   "id": "95b80867",
   "metadata": {},
   "outputs": [
    {
     "data": {
      "image/png": "[encoded data removed]",
      "text/plain": [
       "<Figure size 850x450 with 1 Axes>"
      ]
     },
     "metadata": {},
     "output_type": "display_data"
    },
    {
     "data": {
      "image/png": "[encoded data removed]",
      "text/plain": [
       "<Figure size 850x450 with 1 Axes>"
      ]
     },
     "metadata": {},
     "output_type": "display_data"
    },
    {
     "data": {
      "image/png": "[encoded data removed]",
      "text/plain": [
       "<Figure size 850x450 with 1 Axes>"
      ]
     },
     "metadata": {},
     "output_type": "display_data"
    },
    {
     "data": {
      "image/png": "[encoded data removed]",
      "text/plain": [
       "<Figure size 850x450 with 1 Axes>"
      ]
     },
     "metadata": {},
     "output_type": "display_data"
    },
    {
     "data": {
      "image/png": "[encoded data removed]",
      "text/plain": [
       "<Figure size 850x450 with 1 Axes>"
      ]
     },
     "metadata": {},
     "output_type": "display_data"
    }
   ],
   "source": [
    "# 3rd question\n",
    "columns = list(iris_data.columns)\n",
    "for i in range(1, len(columns)):\n",
    "    plt.figure(figsize=(8.5, 4.5))\n",
    "    plt.scatter(iris_data[columns[i]].values, iris_data[columns[5]].values)\n",
    "    plt.xlabel(columns[i])\n",
    "    plt.ylabel(columns[5])\n",
    "    plt.show()"
   ]
  },
  {
   "cell_type": "markdown",
   "id": "2ad89afe",
   "metadata": {},
   "source": [
    "## 4th question\n",
    "*No preprocessing is required for the dataset as the data is already clean and there are no missing values.*"
   ]
  },
  {
   "cell_type": "markdown",
   "id": "bac138d5",
   "metadata": {},
   "source": [
    "## 5th question"
   ]
  },
  {
   "cell_type": "code",
   "execution_count": 16,
   "id": "56639dc4",
   "metadata": {},
   "outputs": [],
   "source": [
    "# 5th question\n",
    "x_train, x_test, y_train, y_test = train_test_split(\n",
    "    iris_data[[\"SepalLengthCm\", \"SepalWidthCm\", \"PetalLengthCm\", \"PetalWidthCm\"]],\n",
    "    iris_data[\"Species\"],\n",
    "    test_size=0.2,\n",
    ")\n",
    "x_train = x_train.iloc[:, :5].values\n",
    "x_test = x_test.iloc[:, :5].values\n",
    "\n",
    "y_train = y_train.iloc[:].values\n",
    "y_train = y_train.reshape(1, x_train.shape[0])\n",
    "\n",
    "y_test = y_test.iloc[:].values\n",
    "y_test = y_test.reshape(1, x_test.shape[0])\n",
    "\n",
    "x_train = x_train.T\n",
    "x_test = x_test.T"
   ]
  },
  {
   "cell_type": "markdown",
   "id": "b20f5271",
   "metadata": {},
   "source": [
    "## 6th question"
   ]
  },
  {
   "cell_type": "code",
   "execution_count": 17,
   "id": "375498da",
   "metadata": {},
   "outputs": [],
   "source": [
    "# 6th question\n",
    "def sigmoid(x):\n",
    "    return 1 / (1 + np.exp(-x))\n",
    "\n",
    "\n",
    "def training_model(x, y, learning_rate, iters):\n",
    "    n = x.shape[0]\n",
    "    m = x.shape[1]\n",
    "    W = np.zeros((n, 1))\n",
    "    B = 0\n",
    "    cost_list = []\n",
    "\n",
    "    for _ in range(iters):\n",
    "        Z = np.dot(W.T, x) + B\n",
    "        A = sigmoid(Z)\n",
    "        cost = (-1 / m) * (np.sum(y * np.log(A) + (1 - y) * np.log(1 - A)))\n",
    "        dW = (1 / m) * np.dot(A - y, x.T)\n",
    "        dB = (1 / m) * np.sum(A - y)\n",
    "\n",
    "        W = W - learning_rate * dW.T\n",
    "        B -= learning_rate * dB\n",
    "        cost_list.append(cost)\n",
    "    return W, B, cost_list"
   ]
  },
  {
   "cell_type": "markdown",
   "id": "8998e485",
   "metadata": {},
   "source": [
    "# 7th question"
   ]
  },
  {
   "cell_type": "code",
   "execution_count": 18,
   "id": "b3a28984",
   "metadata": {},
   "outputs": [],
   "source": [
    "# 7th question\n",
    "W, B, cost_list = training_model(x_train, y_train, 0.1, 12000)"
   ]
  },
  {
   "cell_type": "markdown",
   "id": "599a13cb",
   "metadata": {},
   "source": [
    "## 8th question"
   ]
  },
  {
   "cell_type": "code",
   "execution_count": 19,
   "id": "80622c4f",
   "metadata": {},
   "outputs": [
    {
     "data": {
      "image/png": "[encoded data removed]",
      "text/plain": [
       "<Figure size 640x480 with 1 Axes>"
      ]
     },
     "metadata": {},
     "output_type": "display_data"
    }
   ],
   "source": [
    "# 8th question\n",
    "iters = 12000\n",
    "plt.plot(list(range(iters)), cost_list)\n",
    "plt.show()"
   ]
  },
  {
   "cell_type": "markdown",
   "id": "b2342975",
   "metadata": {},
   "source": [
    "## 9th question"
   ]
  },
  {
   "cell_type": "code",
   "execution_count": 20,
   "id": "5feea1ed",
   "metadata": {},
   "outputs": [
    {
     "name": "stdout",
     "output_type": "stream",
     "text": [
      "Accuracy of model:  100.0 %\n"
     ]
    }
   ],
   "source": [
    "# 9th question\n",
    "def model(X, Y, W, B):\n",
    "    Z = np.dot(W.T, X) + B\n",
    "    A = sigmoid(Z)\n",
    "    A = A > 0.5\n",
    "    A = np.array(A, dtype=\"int64\")\n",
    "    acc = (1 - np.sum(np.absolute(A - Y)) / Y.shape[1]) * 100\n",
    "    print(\"Accuracy of model: \", round(acc, 2), \"%\")\n",
    "\n",
    "\n",
    "model(x_test, y_test, W, B)"
   ]
  },
  {
   "cell_type": "markdown",
   "id": "1e5407e5",
   "metadata": {},
   "source": [
    "\n",
    "## 10th question"
   ]
  },
  {
   "cell_type": "code",
   "execution_count": 24,
   "id": "15894d80",
   "metadata": {},
   "outputs": [
    {
     "name": "stdout",
     "output_type": "stream",
     "text": [
      "Accuracy =  0.0\n",
      "Precision =  0.0\n",
      "Recall =  0.0\n",
      "F1-score =  0\n"
     ]
    }
   ],
   "source": [
    "# 10th question\n",
    "def predict(W, B, X):\n",
    "    Z = np.dot(W.T, X) + B\n",
    "    A = sigmoid(Z)\n",
    "    A = A < 0.5\n",
    "    A = np.array(A, dtype=\"int64\")\n",
    "    return np.round(A)\n",
    "\n",
    "\n",
    "def calculate_metrics(W, B, X, Y):\n",
    "    m = X.shape[1]\n",
    "\n",
    "    # Make predictions\n",
    "    predictions = predict(W, B, X)\n",
    "\n",
    "    # Calculate True Positives, False Positives, True Negatives, False Negatives\n",
    "    true_pos = np.sum(np.logical_and(predictions == 1, Y == 1))\n",
    "    false_pos = np.sum(np.logical_and(predictions == 1, Y == 0))\n",
    "    true_neg = np.sum(np.logical_and(predictions == 0, Y == 0))\n",
    "    false_neg = np.sum(np.logical_and(predictions == 0, Y == 1))\n",
    "\n",
    "    # Calculate accuracy\n",
    "    accuracy = (true_pos + true_neg) / m\n",
    "\n",
    "    # Calculate precision\n",
    "    precision = true_pos / (true_pos + false_pos) if true_pos + false_pos > 0 else 0\n",
    "\n",
    "    # Calculate recall\n",
    "    recall = true_pos / (true_pos + false_neg) if true_pos + false_neg > 0 else 0\n",
    "\n",
    "    # Calculate F1-score\n",
    "    f1_score = 2 * precision * recall / (precision + recall) if precision + recall > 0 else 0\n",
    "\n",
    "    return accuracy, precision, recall, f1_score\n",
    "\n",
    "\n",
    "accuracy, precision, recall, f1 = calculate_metrics(W, B, x_test, y_test)\n",
    "print(\"Accuracy = \", accuracy)\n",
    "print(\"Precision = \", precision)\n",
    "print(\"Recall = \", recall)\n",
    "print(\"F1-score = \", f1)"
   ]
  }
 ],
 "metadata": {
  "kernelspec": {
   "display_name": "Python 3 (ipykernel)",
   "language": "python",
   "name": "python3"
  },
  "language_info": {
   "codemirror_mode": {
    "name": "ipython",
    "version": 3
   },
   "file_extension": ".py",
   "mimetype": "text/x-python",
   "name": "python",
   "nbconvert_exporter": "python",
   "pygments_lexer": "ipython3",
   "version": "3.11.6"
  }
 },
 "nbformat": 4,
 "nbformat_minor": 5
}
