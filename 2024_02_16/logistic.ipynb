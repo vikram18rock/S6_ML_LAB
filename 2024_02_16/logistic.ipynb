{
  "cells": [
    {
      "cell_type": "code",
      "execution_count": 251,
      "metadata": {
        "id": "-ucDYOQfiULX"
      },
      "outputs": [],
      "source": [
        "import pandas as pd\n",
        "import numpy as np\n",
        "import matplotlib.pyplot as plt"
      ]
    },
    {
      "cell_type": "code",
      "execution_count": 252,
      "metadata": {
        "colab": {
          "base_uri": "https://localhost:8080/",
          "height": 333
        },
        "id": "L_ocgbQjjaTL",
        "outputId": "03605cde-5370-4af3-98d6-14d6315b5330"
      },
      "outputs": [
        {
          "name": "stdout",
          "output_type": "stream",
          "text": [
            "<class 'pandas.core.frame.DataFrame'>\n",
            "RangeIndex: 150 entries, 0 to 149\n",
            "Data columns (total 6 columns):\n",
            " #   Column         Non-Null Count  Dtype  \n",
            "---  ------         --------------  -----  \n",
            " 0   Id             150 non-null    int64  \n",
            " 1   SepalLengthCm  150 non-null    float64\n",
            " 2   SepalWidthCm   150 non-null    float64\n",
            " 3   PetalLengthCm  150 non-null    float64\n",
            " 4   PetalWidthCm   150 non-null    float64\n",
            " 5   Species        150 non-null    object \n",
            "dtypes: float64(4), int64(1), object(1)\n",
            "memory usage: 7.2+ KB\n"
          ]
        }
      ],
      "source": [
        "concrete_data = pd.read_csv(\"/home/vikram/Documents/S6/ML_LAB/2024_02_16/Iris.csv\")\n",
        "concrete_data.info()"
      ]
    },
    {
      "cell_type": "code",
      "execution_count": 253,
      "metadata": {
        "id": "BnKhLpkRj8My"
      },
      "outputs": [
        {
          "data": {
            "text/html": [
              "<div>\n",
              "<style scoped>\n",
              "    .dataframe tbody tr th:only-of-type {\n",
              "        vertical-align: middle;\n",
              "    }\n",
              "\n",
              "    .dataframe tbody tr th {\n",
              "        vertical-align: top;\n",
              "    }\n",
              "\n",
              "    .dataframe thead th {\n",
              "        text-align: right;\n",
              "    }\n",
              "</style>\n",
              "<table border=\"1\" class=\"dataframe\">\n",
              "  <thead>\n",
              "    <tr style=\"text-align: right;\">\n",
              "      <th></th>\n",
              "      <th>Id</th>\n",
              "      <th>SepalLengthCm</th>\n",
              "      <th>SepalWidthCm</th>\n",
              "      <th>PetalLengthCm</th>\n",
              "      <th>PetalWidthCm</th>\n",
              "      <th>Species</th>\n",
              "    </tr>\n",
              "  </thead>\n",
              "  <tbody>\n",
              "    <tr>\n",
              "      <th>0</th>\n",
              "      <td>1</td>\n",
              "      <td>5.1</td>\n",
              "      <td>3.5</td>\n",
              "      <td>1.4</td>\n",
              "      <td>0.2</td>\n",
              "      <td>Iris-setosa</td>\n",
              "    </tr>\n",
              "    <tr>\n",
              "      <th>1</th>\n",
              "      <td>2</td>\n",
              "      <td>4.9</td>\n",
              "      <td>3.0</td>\n",
              "      <td>1.4</td>\n",
              "      <td>0.2</td>\n",
              "      <td>Iris-setosa</td>\n",
              "    </tr>\n",
              "    <tr>\n",
              "      <th>2</th>\n",
              "      <td>3</td>\n",
              "      <td>4.7</td>\n",
              "      <td>3.2</td>\n",
              "      <td>1.3</td>\n",
              "      <td>0.2</td>\n",
              "      <td>Iris-setosa</td>\n",
              "    </tr>\n",
              "    <tr>\n",
              "      <th>3</th>\n",
              "      <td>4</td>\n",
              "      <td>4.6</td>\n",
              "      <td>3.1</td>\n",
              "      <td>1.5</td>\n",
              "      <td>0.2</td>\n",
              "      <td>Iris-setosa</td>\n",
              "    </tr>\n",
              "    <tr>\n",
              "      <th>4</th>\n",
              "      <td>5</td>\n",
              "      <td>5.0</td>\n",
              "      <td>3.6</td>\n",
              "      <td>1.4</td>\n",
              "      <td>0.2</td>\n",
              "      <td>Iris-setosa</td>\n",
              "    </tr>\n",
              "    <tr>\n",
              "      <th>...</th>\n",
              "      <td>...</td>\n",
              "      <td>...</td>\n",
              "      <td>...</td>\n",
              "      <td>...</td>\n",
              "      <td>...</td>\n",
              "      <td>...</td>\n",
              "    </tr>\n",
              "    <tr>\n",
              "      <th>145</th>\n",
              "      <td>146</td>\n",
              "      <td>6.7</td>\n",
              "      <td>3.0</td>\n",
              "      <td>5.2</td>\n",
              "      <td>2.3</td>\n",
              "      <td>Iris-virginica</td>\n",
              "    </tr>\n",
              "    <tr>\n",
              "      <th>146</th>\n",
              "      <td>147</td>\n",
              "      <td>6.3</td>\n",
              "      <td>2.5</td>\n",
              "      <td>5.0</td>\n",
              "      <td>1.9</td>\n",
              "      <td>Iris-virginica</td>\n",
              "    </tr>\n",
              "    <tr>\n",
              "      <th>147</th>\n",
              "      <td>148</td>\n",
              "      <td>6.5</td>\n",
              "      <td>3.0</td>\n",
              "      <td>5.2</td>\n",
              "      <td>2.0</td>\n",
              "      <td>Iris-virginica</td>\n",
              "    </tr>\n",
              "    <tr>\n",
              "      <th>148</th>\n",
              "      <td>149</td>\n",
              "      <td>6.2</td>\n",
              "      <td>3.4</td>\n",
              "      <td>5.4</td>\n",
              "      <td>2.3</td>\n",
              "      <td>Iris-virginica</td>\n",
              "    </tr>\n",
              "    <tr>\n",
              "      <th>149</th>\n",
              "      <td>150</td>\n",
              "      <td>5.9</td>\n",
              "      <td>3.0</td>\n",
              "      <td>5.1</td>\n",
              "      <td>1.8</td>\n",
              "      <td>Iris-virginica</td>\n",
              "    </tr>\n",
              "  </tbody>\n",
              "</table>\n",
              "<p>150 rows × 6 columns</p>\n",
              "</div>"
            ],
            "text/plain": [
              "      Id  SepalLengthCm  SepalWidthCm  PetalLengthCm  PetalWidthCm  \\\n",
              "0      1            5.1           3.5            1.4           0.2   \n",
              "1      2            4.9           3.0            1.4           0.2   \n",
              "2      3            4.7           3.2            1.3           0.2   \n",
              "3      4            4.6           3.1            1.5           0.2   \n",
              "4      5            5.0           3.6            1.4           0.2   \n",
              "..   ...            ...           ...            ...           ...   \n",
              "145  146            6.7           3.0            5.2           2.3   \n",
              "146  147            6.3           2.5            5.0           1.9   \n",
              "147  148            6.5           3.0            5.2           2.0   \n",
              "148  149            6.2           3.4            5.4           2.3   \n",
              "149  150            5.9           3.0            5.1           1.8   \n",
              "\n",
              "            Species  \n",
              "0       Iris-setosa  \n",
              "1       Iris-setosa  \n",
              "2       Iris-setosa  \n",
              "3       Iris-setosa  \n",
              "4       Iris-setosa  \n",
              "..              ...  \n",
              "145  Iris-virginica  \n",
              "146  Iris-virginica  \n",
              "147  Iris-virginica  \n",
              "148  Iris-virginica  \n",
              "149  Iris-virginica  \n",
              "\n",
              "[150 rows x 6 columns]"
            ]
          },
          "execution_count": 253,
          "metadata": {},
          "output_type": "execute_result"
        }
      ],
      "source": [
        "concrete_data"
      ]
    },
    {
      "cell_type": "markdown",
      "metadata": {
        "id": "1FwbTpR_krxO"
      },
      "source": [
        "\n",
        "\n",
        "1.   Model\n",
        "    - w, b\n",
        "    - train\n",
        "    - gradient descent\n",
        "    - derivaties\n",
        "      - error\n",
        "        - prediction\n",
        "\n",
        "    - train test split\n"
      ]
    },
    {
      "cell_type": "code",
      "execution_count": 254,
      "metadata": {
        "id": "7twansCslquP"
      },
      "outputs": [
        {
          "data": {
            "image/png": "[encoded data removed]",
            "text/plain": [
              "<Figure size 640x480 with 6 Axes>"
            ]
          },
          "metadata": {},
          "output_type": "display_data"
        }
      ],
      "source": [
        "columns = concrete_data.columns\n",
        "\n",
        "fig, ax = plt.subplots(3, 2)\n",
        "for i in range(len(columns) - 1) :\n",
        "  ax[i // 2, i % 2].scatter(concrete_data[columns[i]], concrete_data[columns[-1]])\n",
        "  ax[i // 2, i % 2].set_xlabel(columns[i])\n",
        "  ax[i // 2, i % 2].set_ylabel(columns[-1])\n",
        "plt.show()\n",
        "\n",
        "concrete_data.drop(columns[0], axis=1, inplace=True)"
      ]
    },
    {
      "cell_type": "code",
      "execution_count": 255,
      "metadata": {
        "id": "6XCDg5Tqoxtj"
      },
      "outputs": [],
      "source": [
        "concrete_data.replace(\n",
        "    to_replace={columns[-1] : {\n",
        "            'Iris-virginica' : 1,\n",
        "            'Iris-versicolor' : 0,\n",
        "            'Iris-setosa' : 0\n",
        "        }\n",
        "    },\n",
        "    inplace=True\n",
        ")\n",
        "\n",
        "import sklearn.model_selection as sklms\n",
        "\n",
        "concrete_data = concrete_data.to_numpy()\n",
        "\n",
        "x = concrete_data[:, :-1]\n",
        "y = concrete_data[:, -1]\n",
        "x_train, x_test, y_train, y_test = sklt.train_test_split(\n",
        "    x, y,\n",
        "    random_state = 100,\n",
        "    test_size = 0.2\n",
        ")"
      ]
    },
    {
      "cell_type": "code",
      "execution_count": 256,
      "metadata": {},
      "outputs": [],
      "source": [
        "def sigmoid(z) :\n",
        "    return (1 / (1 + np.exp(-z)))"
      ]
    },
    {
      "cell_type": "code",
      "execution_count": 257,
      "metadata": {
        "id": "bLNWTcOdsG6g"
      },
      "outputs": [],
      "source": [
        "def predict(x, w, b) :\n",
        "    return sigmoid(np.dot(x, w) + b)"
      ]
    },
    {
      "cell_type": "code",
      "execution_count": 258,
      "metadata": {
        "id": "qJ4hCVE_pC9y"
      },
      "outputs": [],
      "source": [
        "def gradient_descent(x, y, learning_rate, iterations) :\n",
        "    cost = []\n",
        "\n",
        "    m, n = x.shape\n",
        "    # n x 1\n",
        "    w = np.ones(n)\n",
        "    b = 0.\n",
        "\n",
        "    # dj_dw = 1 / m * sig {pred - true} * x_i\n",
        "    for i in range(iterations) :\n",
        "\n",
        "        dj_dw = (1 / m) * np.dot(\n",
        "            # n x m\n",
        "            x.T,\n",
        "            # m x n * n x 1\n",
        "            predict(x, w, b) - y\n",
        "        )\n",
        "        dj_db = (1 / m) * np.sum(\n",
        "            predict(x, w, b) - y\n",
        "        )\n",
        "\n",
        "        w = w - learning_rate * dj_dw\n",
        "        b = b - learning_rate * dj_db\n",
        "\n",
        "    return w, b"
      ]
    },
    {
      "cell_type": "code",
      "execution_count": 259,
      "metadata": {
        "id": "G2B3hsZcV7JX"
      },
      "outputs": [
        {
          "data": {
            "image/png": "[encoded data removed]",
            "text/plain": [
              "<Figure size 640x480 with 1 Axes>"
            ]
          },
          "metadata": {},
          "output_type": "display_data"
        }
      ],
      "source": [
        "w, b = gradient_descent(x_train, y_train, 0.0001, 100000)\n",
        "\n",
        "y_pred = predict(x_test, w, b)\n",
        "\n",
        "y_pred[y_pred>0.5] = 1\n",
        "y_pred[y_pred<=0.5] = 0\n",
        "\n",
        "fig, ax = plt.subplots()\n",
        "ax.plot(y_pred, 'o', label= \"predicted\")\n",
        "ax.plot(y_test, 'd', label= \"actual\")\n",
        "plt.legend()\n",
        "plt.show()"
      ]
    },
    {
      "cell_type": "code",
      "execution_count": 262,
      "metadata": {},
      "outputs": [
        {
          "name": "stdout",
          "output_type": "stream",
          "text": [
            "Help on function confusion_matrix in module sklearn.metrics._classification:\n",
            "\n",
            "confusion_matrix(y_true, y_pred, *, labels=None, sample_weight=None, normalize=None)\n",
            "    Compute confusion matrix to evaluate the accuracy of a classification.\n",
            "    \n",
            "    By definition a confusion matrix :math:`C` is such that :math:`C_{i, j}`\n",
            "    is equal to the number of observations known to be in group :math:`i` and\n",
            "    predicted to be in group :math:`j`.\n",
            "    \n",
            "    Thus in binary classification, the count of true negatives is\n",
            "    :math:`C_{0,0}`, false negatives is :math:`C_{1,0}`, true positives is\n",
            "    :math:`C_{1,1}` and false positives is :math:`C_{0,1}`.\n",
            "    \n",
            "    Read more in the :ref:`User Guide <confusion_matrix>`.\n",
            "    \n",
            "    Parameters\n",
            "    ----------\n",
            "    y_true : array-like of shape (n_samples,)\n",
            "        Ground truth (correct) target values.\n",
            "    \n",
            "    y_pred : array-like of shape (n_samples,)\n",
            "        Estimated targets as returned by a classifier.\n",
            "    \n",
            "    labels : array-like of shape (n_classes), default=None\n",
            "        List of labels to index the matrix. This may be used to reorder\n",
            "        or select a subset of labels.\n",
            "        If ``None`` is given, those that appear at least once\n",
            "        in ``y_true`` or ``y_pred`` are used in sorted order.\n",
            "    \n",
            "    sample_weight : array-like of shape (n_samples,), default=None\n",
            "        Sample weights.\n",
            "    \n",
            "        .. versionadded:: 0.18\n",
            "    \n",
            "    normalize : {'true', 'pred', 'all'}, default=None\n",
            "        Normalizes confusion matrix over the true (rows), predicted (columns)\n",
            "        conditions or all the population. If None, confusion matrix will not be\n",
            "        normalized.\n",
            "    \n",
            "    Returns\n",
            "    -------\n",
            "    C : ndarray of shape (n_classes, n_classes)\n",
            "        Confusion matrix whose i-th row and j-th\n",
            "        column entry indicates the number of\n",
            "        samples with true label being i-th class\n",
            "        and predicted label being j-th class.\n",
            "    \n",
            "    See Also\n",
            "    --------\n",
            "    ConfusionMatrixDisplay.from_estimator : Plot the confusion matrix\n",
            "        given an estimator, the data, and the label.\n",
            "    ConfusionMatrixDisplay.from_predictions : Plot the confusion matrix\n",
            "        given the true and predicted labels.\n",
            "    ConfusionMatrixDisplay : Confusion Matrix visualization.\n",
            "    \n",
            "    References\n",
            "    ----------\n",
            "    .. [1] `Wikipedia entry for the Confusion matrix\n",
            "           <https://en.wikipedia.org/wiki/Confusion_matrix>`_\n",
            "           (Wikipedia and other references may use a different\n",
            "           convention for axes).\n",
            "    \n",
            "    Examples\n",
            "    --------\n",
            "    >>> from sklearn.metrics import confusion_matrix\n",
            "    >>> y_true = [2, 0, 2, 2, 0, 1]\n",
            "    >>> y_pred = [0, 0, 2, 2, 0, 2]\n",
            "    >>> confusion_matrix(y_true, y_pred)\n",
            "    array([[2, 0, 0],\n",
            "           [0, 0, 1],\n",
            "           [1, 0, 2]])\n",
            "    \n",
            "    >>> y_true = [\"cat\", \"ant\", \"cat\", \"cat\", \"ant\", \"bird\"]\n",
            "    >>> y_pred = [\"ant\", \"ant\", \"cat\", \"cat\", \"ant\", \"cat\"]\n",
            "    >>> confusion_matrix(y_true, y_pred, labels=[\"ant\", \"bird\", \"cat\"])\n",
            "    array([[2, 0, 0],\n",
            "           [0, 0, 1],\n",
            "           [1, 0, 2]])\n",
            "    \n",
            "    In the binary case, we can extract true positives, etc as follows:\n",
            "    \n",
            "    >>> tn, fp, fn, tp = confusion_matrix([0, 1, 0, 1], [1, 1, 1, 0]).ravel()\n",
            "    >>> (tn, fp, fn, tp)\n",
            "    (0, 2, 1, 1)\n",
            "\n"
          ]
        }
      ],
      "source": [
        "import sklearn.metrics as sklm \n",
        "help(sklm.confusion_matrix)"
      ]
    }
  ],
  "metadata": {
    "colab": {
      "provenance": []
    },
    "kernelspec": {
      "display_name": "Python 3",
      "name": "python3"
    },
    "language_info": {
      "codemirror_mode": {
        "name": "ipython",
        "version": 3
      },
      "file_extension": ".py",
      "mimetype": "text/x-python",
      "name": "python",
      "nbconvert_exporter": "python",
      "pygments_lexer": "ipython3",
      "version": "3.11.6"
    }
  },
  "nbformat": 4,
  "nbformat_minor": 0
}
